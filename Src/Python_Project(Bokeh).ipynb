{
  "metadata": {
    "kernelspec": {
      "name": "python",
      "display_name": "Python (Pyodide)",
      "language": "python"
    },
    "language_info": {
      "codemirror_mode": {
        "name": "python",
        "version": 3
      },
      "file_extension": ".py",
      "mimetype": "text/x-python",
      "name": "python",
      "nbconvert_exporter": "python",
      "pygments_lexer": "ipython3",
      "version": "3.8"
    }
  },
  "nbformat_minor": 5,
  "nbformat": 4,
  "cells": [
    {
      "id": "5230cbe6-2018-428f-a931-c7facbac6569",
      "cell_type": "code",
      "source": "import pandas as pd\nimport numpy as np\nfrom sqlalchemy import create_engine, Column, Integer, Float, String\nfrom sqlalchemy.orm import declarative_base\nfrom sqlalchemy.orm import sessionmaker\nfrom bokeh.plotting import figure, show, output_notebook\nfrom bokeh.models import ColumnDataSource\nfrom bokeh.layouts import column\nimport math\noutput_notebook()\n\n# SQLAlchemy setup\nBase = declarative_base()",
      "metadata": {
        "trusted": true
      },
      "outputs": [],
      "execution_count": null
    },
    {
      "id": "5993ebb3-7021-4b76-ab0e-54bc4813b026",
      "cell_type": "code",
      "source": "class TrainingData(Base):\n    __tablename__ = 'training_data'\n    id = Column(Integer, primary_key=True)\n    x_value = Column(Float)\n    y1 = Column(Float)\n    y2 = Column(Float)\n    y3 = Column(Float)\n    y4 = Column(Float)\n\nclass IdealFunction(Base):\n    __tablename__ = 'ideal_functions'\n    id = Column(Integer, primary_key=True)\n    x_value = Column(Float)\n    y1 = Column(Float)\n    y2 = Column(Float)\n    y3 = Column(Float)\n    y4 = Column(Float)  # Extend to y50 as needed\n\nclass TestResult(Base):\n    __tablename__ = 'test_results'\n    id = Column(Integer, primary_key=True)\n    x_value = Column(Float)\n    y_value = Column(Float)\n    delta_y = Column(Float)\n    ideal_function_number = Column(Integer)\n",
      "metadata": {
        "trusted": true
      },
      "outputs": [],
      "execution_count": null
    },
    {
      "id": "722c9c1a-80cb-4d1a-ae06-89e20f54f969",
      "cell_type": "code",
      "source": "from pathlib import Path\n\ndb_file = Path(\"function_matching.db\")\nif db_file.exists():\n    db_file.unlink()\n    print(\"Corrupted database deleted.\")\nelse:\n    print(\"Database file not found.\")\n",
      "metadata": {
        "trusted": true
      },
      "outputs": [],
      "execution_count": null
    },
    {
      "id": "a441196a-521a-4594-a530-76db87af66b0",
      "cell_type": "code",
      "source": "from sqlalchemy import create_engine\nfrom sqlalchemy.orm import declarative_base, sessionmaker\n\nBase = declarative_base()\n\nengine = create_engine('sqlite:///function_matching.db')\nBase.metadata.create_all(engine)\nSession = sessionmaker(bind=engine)\nsession = Session()\nprint(\"✅ New database created successfully.\")\n",
      "metadata": {
        "trusted": true
      },
      "outputs": [],
      "execution_count": null
    },
    {
      "id": "53cc9305-a63d-494d-ae4e-d866a78b0e66",
      "cell_type": "code",
      "source": "#loading the  CSV Files\ntrain_df = pd.read_csv('train.csv')\nideal_df = pd.read_csv('ideal.csv')\ntest_df = pd.read_csv('test.csv')\n",
      "metadata": {
        "trusted": true
      },
      "outputs": [],
      "execution_count": null
    },
    {
      "id": "b4882121-7971-474d-a62d-958b900d2470",
      "cell_type": "code",
      "source": "def least_square_deviation(y_true, y_pred):\n    return np.sum((y_true - y_pred) ** 2)\n\ndef find_best_ideal_matches(train_df, ideal_df):\n    best_matches = {}\n    for y_col in ['Y1', 'Y2', 'Y3', 'Y4']:\n        min_dev = float('inf')\n        best_func = None\n        for ideal_col in ideal_df.columns[1:]:  # skip X\n            dev = least_square_deviation(train_df[y_col], ideal_df[ideal_col])\n            if dev < min_dev:\n                min_dev = dev\n                best_func = ideal_col\n        best_matches[y_col] = best_func\n    return best_matches\n",
      "metadata": {
        "trusted": true
      },
      "outputs": [],
      "execution_count": null
    },
    {
      "id": "b3a633c0-639b-43a4-880d-cb6431202b6d",
      "cell_type": "code",
      "source": "def map_test_data(test_df, ideal_df, best_matches):\n    results = []\n    for _, row in test_df.iterrows():\n        x_val, y_val = row['X'], row['Y']\n        matched = False\n        for idx, (train_col, ideal_col) in enumerate(best_matches.items(), 1):\n            ideal_row = ideal_df[ideal_df['X'] == x_val]\n            if not ideal_row.empty:\n                ideal_y = ideal_row[ideal_col].values[0]\n                delta = abs(y_val - ideal_y)\n                max_dev = np.max(np.abs(train_df[train_col] - ideal_df[ideal_col]))\n                if delta <= max_dev * sqrt(2):\n                    results.append({\n                        'x_value': x_val,\n                        'y_value': y_val,\n                        'delta_y': delta,\n                        'ideal_function_number': idx\n                    })\n                    matched = True\n                    break\n        if not matched:\n            results.append({\n                'x_value': x_val,\n                'y_value': y_val,\n                'delta_y': None,\n                'ideal_function_number': None\n            })\n    return results\n",
      "metadata": {
        "trusted": true
      },
      "outputs": [],
      "execution_count": null
    },
    {
      "id": "f66fbb69-a54b-4508-8078-1738b3f4ad76",
      "cell_type": "code",
      "source": "def save_results(results):\n    for r in results:\n        session.add(TestResult(**r))\n    session.commit()\n\ndef plot_results(train_df, ideal_df, results, best_matches):\n    p = figure(title=\"Function Matching\", x_axis_label='X', y_axis_label='Y')\n    p.scatter(train_df['X'], train_df['Y1'], color='blue', size=6, legend_label='Training Y1')\n\n    ideal_col = best_matches['Y1']\n    p.line(ideal_df['X'], ideal_df[ideal_col], color='green', line_width=2, legend_label=f'Ideal {ideal_col}')\n\n    import pandas as pd\n    results_df = pd.DataFrame(results)\n    mapped = results_df[results_df['ideal_function_number'] == 1]\n    p.square(mapped['x_value'], mapped['y_value'], color='red', size=6, legend_label='Test Mapped')\n\n    p.legend.location = 'top_left'\n    show(p)\n",
      "metadata": {
        "trusted": true
      },
      "outputs": [],
      "execution_count": null
    },
    {
      "id": "956e824f-768d-40b2-a3cf-31af20eaa1d5",
      "cell_type": "code",
      "source": "from bokeh.plotting import figure, show\nfrom bokeh.io import output_notebook\nfrom bokeh.models import ColumnDataSource\n\noutput_notebook()\n\n# Sample data\ndata = {'x': [1, 2, 3, 4, 5], 'y': [6, 7, 2, 4, 5]}\nsource = ColumnDataSource(data)\n\n# Create plot\np = figure(title=\"Updated Bokeh Plot\", x_axis_label='X', y_axis_label='Y')\np.scatter(x='x', y='y', source=source, size=10, marker='circle', color=\"navy\", alpha=0.6)\n\nshow(p)\n",
      "metadata": {
        "trusted": true
      },
      "outputs": [],
      "execution_count": null
    },
    {
      "id": "ce052a85-2c7b-457d-9ec2-86d118591d81",
      "cell_type": "code",
      "source": "",
      "metadata": {
        "trusted": true
      },
      "outputs": [],
      "execution_count": null
    }
  ]
}